{
 "cells": [
  {
   "cell_type": "code",
   "execution_count": 13,
   "metadata": {},
   "outputs": [],
   "source": [
    "from collections import deque\n",
    "import matplotlib.pyplot as plt\n",
    "import networkx as nx\n",
    "import numpy as np\n",
    "\n",
    "L, W = 4, 3 # lattice size.\n",
    "G = nx.grid_2d_graph(L, W)\n",
    "G_positions = G.nodes() # original node labels can be used as \"coordinates\""
   ]
  },
  {
   "cell_type": "markdown",
   "metadata": {},
   "source": [
    "## Explanation\n",
    "\n",
    "So we are trying to relabel the nodes so that the left edge is first, then the bottom edge.\n",
    "\n",
    "For example, for a 4x3 graph the order should be\n",
    "\n",
    "$$\\begin{matrix}\n",
    "3 & 8 & 10 & 12 \\\\\n",
    "2 & 7 & 9 & 11 \\\\\n",
    "1 & 4 & 5 & 6\n",
    "\\end{matrix}\n",
    "$$\n",
    "\n",
    "so the new labels should be in this order: 1, 2, 3, 4, 7, 8, 5, 9, 10, 6, 11, 12.\n",
    "\n",
    "---------------------------\n",
    "\n",
    "What we will do is use `nx.relabel_nodes`. It takes the graph and a dictionary `d` which should map from the old label to the new label. We will store the old labels in `a`, and create a list `b` which holds the new labels in order.\n",
    "\n",
    "We do this by setting `b=[1, 2, ..., W]`, and creating two lists `b1` and `b2`:\n",
    "- b1 = $[W+1, ..., W+L-1]$   (the ones which go on the bottom edge).\n",
    "- b2 = everything else.\n",
    "\n",
    "In the above case, `b1` = $[4, 5, 6],$ `b2` = $[7, 8, 9, 10, 11, 12]$\n",
    "\n",
    "Then do the following $L-1$ times:\n",
    "- add the first element from `b1` to `b`\n",
    "- add the first $(W-1)$ elements from `b2` to `b`.\n",
    "\n",
    "(We use a deque so `popleft` is O(1).)\n",
    "\n",
    "Finally create the desired dictionary `d` from a and b by doing `d=dict(zip(a, b))`."
   ]
  },
  {
   "cell_type": "code",
   "execution_count": 14,
   "metadata": {},
   "outputs": [
    {
     "name": "stdout",
     "output_type": "stream",
     "text": [
      "[1, 2, 3, 4, 7, 8, 5, 9, 10, 6, 11, 12]\n"
     ]
    },
    {
     "data": {
      "image/png": "[encoded data removed]",
      "text/plain": [
       "<Figure size 432x288 with 1 Axes>"
      ]
     },
     "metadata": {},
     "output_type": "display_data"
    }
   ],
   "source": [
    "a = list(G.nodes)\n",
    "\n",
    "b = list(range(1, W+1)) # left edge\n",
    "b1 = deque(range(W+1, W+L)) # bottom edge\n",
    "b2 = deque(range(W+L, W*L+1))\n",
    "\n",
    "for i in range(L-1):\n",
    "    b.append(b1.popleft())\n",
    "    b.extend([b2.popleft() for j in range(W-1)])\n",
    "    \n",
    "print(b)\n",
    "  \n",
    "d = dict(zip(a,b))\n",
    "G = nx.relabel_nodes(G,d)\n",
    "\n",
    "# Position\n",
    "pos = dict(zip(b, G_positions))\n",
    "\n",
    "nx.draw(G, with_labels=True, node_size=1000, pos=pos)"
   ]
  },
  {
   "cell_type": "code",
   "execution_count": 15,
   "metadata": {},
   "outputs": [],
   "source": [
    "# Laplacian matrix\n",
    "K = nx.linalg.laplacianmatrix.laplacian_matrix(G, nodelist=list(range(1, L*W+1))).toarray()"
   ]
  },
  {
   "cell_type": "markdown",
   "metadata": {},
   "source": [
    "We know that $Kx=f$ where $K$ is the Laplacian and $f$ is the net current out of a node. We will assume that Kirchoff's current law holds at all nodes except the source and sink nodes, so $f=0$ at these nodes.\n",
    "\n",
    "However we have reordered the nodes such that the first $W$ nodes have $\\phi=1$ and the next $L-1$ nodes have $\\phi=0$. By decomposing the Laplacian into four parts, we can rewrite the equation as\n",
    "\n",
    "$\\begin{pmatrix} A & B^T \\\\ B & C \\end{pmatrix} \\begin{pmatrix} v \\\\ \\textbf{x} \\end{pmatrix}= \\begin{pmatrix}f  \\\\ 0 \\end{pmatrix}$\n",
    "\n",
    "where\n",
    "\n",
    "- the first matrix is the decomposition of the Laplacian\n",
    "- $v$ is a vector with $W$ 1's and $L-1$ 0's (potentials at the boundary)\n",
    "- $x$ is the vector of potentials we want to calculate\n",
    "- $f$ is the net current out of the boundary nodes. \n",
    "\n",
    "We can use the second row of this matrix equation to deduce that $\\textbf{x}=-C^{-1}Bv$.\n"
   ]
  },
  {
   "cell_type": "code",
   "execution_count": 16,
   "metadata": {},
   "outputs": [
    {
     "data": {
      "text/plain": [
       "array([1.        , 1.        , 1.        , 0.        , 0.        ,\n",
       "       0.        , 0.46975089, 0.61921708, 0.25978648, 0.38790036,\n",
       "       0.18149466, 0.28469751])"
      ]
     },
     "execution_count": 16,
     "metadata": {},
     "output_type": "execute_result"
    }
   ],
   "source": [
    "# constructing v, extracting B, C and solving for x\n",
    "v = np.array([1]*W + [0]*(L-1))\n",
    "B = K[-(W-1)*(L-1):, :W+L-1]\n",
    "C = K[-(W-1)*(L-1):, -(W-1)*(L-1):]\n",
    "\n",
    "x = (-np.linalg.inv(C) @ B @ v).flatten()\n",
    "\n",
    "potentials = np.concatenate([v, x])\n",
    "potentials"
   ]
  },
  {
   "cell_type": "markdown",
   "metadata": {},
   "source": [
    "# Fix this"
   ]
  },
  {
   "cell_type": "code",
   "execution_count": 17,
   "metadata": {},
   "outputs": [
    {
     "name": "stderr",
     "output_type": "stream",
     "text": [
      "C:\\Users\\Julian\\Anaconda3\\lib\\site-packages\\networkx\\drawing\\nx_pylab.py:579: MatplotlibDeprecationWarning: \n",
      "The iterable function was deprecated in Matplotlib 3.1 and will be removed in 3.3. Use np.iterable instead.\n",
      "  if not cb.iterable(width):\n"
     ]
    },
    {
     "data": {
      "image/png": "[encoded data removed]",
      "text/plain": [
       "<Figure size 288x288 with 1 Axes>"
      ]
     },
     "metadata": {},
     "output_type": "display_data"
    }
   ],
   "source": [
    "# Make the node labels the potentials.\n",
    "labels = {}\n",
    "i = 0\n",
    "for node in G:\n",
    "    labels[node] = round(potentials[i], 2)\n",
    "    i += 1\n",
    "nx.relabel_nodes(G, labels)\n",
    "\n",
    "# Draw\n",
    "plt.figure(figsize=(4, 4))\n",
    "fig = nx.draw(G,node_size=1000, pos=pos, with_labels=True, labels=labels, cmap='Reds', node_color=potentials)\n",
    "plt.show()"
   ]
  },
  {
   "cell_type": "code",
   "execution_count": null,
   "metadata": {},
   "outputs": [],
   "source": []
  }
 ],
 "metadata": {
  "kernelspec": {
   "display_name": "Python 3",
   "language": "python",
   "name": "python3"
  },
  "language_info": {
   "codemirror_mode": {
    "name": "ipython",
    "version": 3
   },
   "file_extension": ".py",
   "mimetype": "text/x-python",
   "name": "python",
   "nbconvert_exporter": "python",
   "pygments_lexer": "ipython3",
   "version": "3.7.4"
  }
 },
 "nbformat": 4,
 "nbformat_minor": 2
}
